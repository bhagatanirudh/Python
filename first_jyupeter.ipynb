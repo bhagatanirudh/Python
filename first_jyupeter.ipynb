{
 "cells": [
  {
   "cell_type": "code",
   "execution_count": null,
   "metadata": {},
   "outputs": [],
   "source": [
    "import time\n",
    "from selenium import webdriver\n",
    "from selenium.webdriver import ActionChains\n",
    "from webdriver_manager.chrome import ChromeDriverManager\n",
    "from selenium.webdriver.chrome.service import Service\n",
    "from selenium.webdriver.support.ui import WebDriverWait as wait\n",
    "from selenium.webdriver.support import expected_conditions as EC\n",
    "from selenium.common.exceptions import StaleElementReferenceException\n",
    "\n",
    "path = 'D:\\Python\\chromedriver'\n",
    "driver = webdriver.Chrome(path)\n",
    "# driver = webdriver.Chrome(service = Service(ChromeDriverManager().install()))\n",
    "website = 'https://internshala.com/'\n",
    "driver.get(website)\n",
    "driver.maximize_window()"
   ]
  },
  {
   "cell_type": "code",
   "execution_count": null,
   "metadata": {},
   "outputs": [],
   "source": [
    "# logging in the website\n",
    "driver.find_element(\"xpath\", \"//button[@type='button'][normalize-space()='Login']\").click()\n",
    "username = \"\"  #Username required\n",
    "driver.find_element(\"id\", \"modal_email\").send_keys(username)\n",
    "password = \"\"  #Password required\n",
    "driver.find_element(\"id\", \"modal_password\").send_keys(password)\n",
    "time.sleep(5)\n",
    "driver.find_element(\"xpath\", \"//button[@id='modal_login_submit']\").click()\n",
    "time.sleep(10)"
   ]
  },
  {
   "cell_type": "code",
   "execution_count": null,
   "metadata": {},
   "outputs": [],
   "source": [
    "# hover over interships\n",
    "actChain = ActionChains(driver)\n",
    "intern = driver.find_element(\"xpath\", \"//a[@id='internships_new_superscript']\")\n",
    "actChain.move_to_element(intern).perform()\n",
    "time.sleep(3)"
   ]
  },
  {
   "cell_type": "code",
   "execution_count": null,
   "metadata": {},
   "outputs": [],
   "source": [
    "# selecting location \n",
    "driver.find_element(\"xpath\", \"(//span[contains(text(),'Location')])[1]\").click()\n",
    "driver.find_element(\"xpath\", \"//a[normalize-space()='Work from Home']\").click()\n",
    "# time.sleep(2)"
   ]
  },
  {
   "cell_type": "code",
   "execution_count": null,
   "metadata": {},
   "outputs": [],
   "source": [
    "# Selecting my preference \n",
    "try :\n",
    "    driver.find_element(\"xpath\", '//*[@id=\"search_form\"]/div[1]/label').click()\n",
    "    time.sleep(3)\n",
    "except:\n",
    "  print(\"An exception occurred.\")\n"
   ]
  },
  {
   "cell_type": "code",
   "execution_count": null,
   "metadata": {},
   "outputs": [],
   "source": [
    "# Required when not Login\n",
    "# driver.find_element(\"id\", \"close_popup\").click()"
   ]
  },
  {
   "cell_type": "code",
   "execution_count": null,
   "metadata": {},
   "outputs": [],
   "source": [
    "# Required when not Login\n",
    "# from selenium.webdriver.common.by import By\n",
    "# from selenium.webdriver.common.keys import Keys\n",
    "# category = driver.find_element(By.XPATH, \"(//input[@value='e.g. Marketing'])[1]\")\n",
    "# category.click()\n",
    "# category.send_keys(\"Computer Science\")\n",
    "# category.send_keys(Keys.ENTER)\n",
    "\n",
    "# wfh = driver.find_element(By.ID, 'work_from_home').get_attribute('checked')\n",
    "# if(wfh == None):\n",
    "#     driver.find_element(By.XPATH, \"//label[@for='work_from_home']\").click()\n",
    "\n"
   ]
  },
  {
   "cell_type": "code",
   "execution_count": null,
   "metadata": {},
   "outputs": [],
   "source": [
    "try:\n",
    "  slider = driver.find_element(\"id\", \"stipend_filter\")\n",
    "  actChain.click_and_hold(slider).move_by_offset(60, 0).release().perform()\n",
    "except:\n",
    "  print(\"Not able to find element.\")"
   ]
  },
  {
   "cell_type": "code",
   "execution_count": null,
   "metadata": {},
   "outputs": [],
   "source": [
    "from selenium.webdriver.common.by import By\n",
    "import pandas as pd\n",
    "import pywhatkit as kit\n",
    "import re\n",
    "intershipList = []\n",
    "keyWords = ['Java', 'Selenium', 'Software', 'Testing', 'Programming', 'Coding', 'Competitive', 'Computer Science']\n",
    "\n",
    "nextpage = driver.find_element(\"xpath\", \"//i[@id='navigation-forward' or @class='disabled']\")\n",
    "nextClass = nextpage.get_attribute(\"class\")\n",
    "while(nextClass != 'disabled'):\n",
    "    time.sleep(1)\n",
    "    data = wait(driver, 10).until(EC.presence_of_all_elements_located((\"xpath\", \"//div[contains(@class, 'container-fluid individual_internship')]\")))\n",
    "    for item in data:\n",
    "        try:\n",
    "            jobRole = item.find_element(By.TAG_NAME, 'a')\n",
    "            jobRoleLink = jobRole.get_attribute('href')\n",
    "            companyName = item.find_element(By.CLASS_NAME, 'company_and_premium').text\n",
    "            stipend = item.find_element(By.CLASS_NAME, 'stipend').text\n",
    "\n",
    "            if re.compile('|'.join(keyWords), re.IGNORECASE).search(jobRole.text): \n",
    "                intership = {\n",
    "                    'role' : jobRole.text,\n",
    "                    'link' : jobRoleLink,\n",
    "                    'company' : companyName,\n",
    "                    'stipend' : stipend\n",
    "                }\n",
    "                intershipList.append(intership)    \n",
    "        except:\n",
    "            print(\"Exception occurred --- 1\")\n",
    "            \n",
    "    # go-to next page\n",
    "    nextpage = driver.find_element(\"xpath\", \"//i[@id='navigation-forward' or @class='disabled']\")\n",
    "    nextpage.click()\n",
    "    nextClass = nextpage.get_attribute(\"class\")\n",
    "  \n",
    "df = pd.DataFrame(intershipList)\n",
    "# print(df.head())\n",
    "df.to_csv('intership.csv') "
   ]
  },
  {
   "cell_type": "code",
   "execution_count": null,
   "metadata": {},
   "outputs": [],
   "source": [
    "import pywhatkit as kit\n",
    "myPhoneNumber = '+918080672181'\n",
    "\n",
    "for index, intershipRow in df.iterrows():\n",
    "    # print(intershipRow.link)\n",
    "    driver.get(intershipRow.link)\n",
    "    screenshotFilepath = \"D:\\\\Intershala project\\\\screenshot_\" + str(index) + \".png\"\n",
    "    driver.save_screenshot(screenshotFilepath)\n",
    "    kit.sendwhats_image(myPhoneNumber, screenshotFilepath, intershipRow.link)"
   ]
  }
 ],
 "metadata": {
  "kernelspec": {
   "display_name": "Python 3.10.2 64-bit",
   "language": "python",
   "name": "python3"
  },
  "language_info": {
   "codemirror_mode": {
    "name": "ipython",
    "version": 3
   },
   "file_extension": ".py",
   "mimetype": "text/x-python",
   "name": "python",
   "nbconvert_exporter": "python",
   "pygments_lexer": "ipython3",
   "version": "3.10.2"
  },
  "orig_nbformat": 4,
  "vscode": {
   "interpreter": {
    "hash": "369f2c481f4da34e4445cda3fffd2e751bd1c4d706f27375911949ba6bb62e1c"
   }
  }
 },
 "nbformat": 4,
 "nbformat_minor": 2
}
